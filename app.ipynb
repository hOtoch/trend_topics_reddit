{
 "cells": [
  {
   "cell_type": "code",
   "execution_count": 5,
   "id": "bd425b07-8d77-4156-a28d-c1a3c7d3f55e",
   "metadata": {},
   "outputs": [],
   "source": [
    "import praw\n",
    "import os\n",
    "reddit = praw.Reddit(client_id ='BGPrLrK9IGbwd0dRhgaZtw', \n",
    "\t\t\t\t\tclient_secret ='-ufdS7nT2GtWdoFMOvtMqlZAyKXtTg', \n",
    "\t\t\t\t\tuser_agent ='trend_topics')\n",
    "\t\t\t\n"
   ]
  },
  {
   "cell_type": "code",
   "execution_count": 11,
   "id": "766fe852-df1c-4a2f-831a-d43db88793cc",
   "metadata": {},
   "outputs": [
    {
     "name": "stdout",
     "output_type": "stream",
     "text": [
      "brasil\n",
      "Brasil é terra indígena\n",
      "O r/brasil é o local de encontro de brasileiros vivendo no país ou vivendo fora dele, além dos gringos! Compartilhe e discuta qualquer conteúdo que possa interessar aos brasileiros.\n",
      "\n",
      "---\n",
      "\n",
      "r/brasil is the hub for Brazilians on Reddit! Visiting redditors from elsewhere are also welcome! This subreddit is moderated based on the reddiquette and our community rules. **Don't speak Portuguese? Feel free to post in English.**\n",
      "\n",
      "---\n",
      "\n",
      "Chegando agora no Reddit? Dê uma olhada em [nossas regras](https://www.reddit.com/r/brasil/wiki/regras/) e [leia o tutorial sobre o reddit.](https://www.reddit.com/r/brasil/comments/5ad2k3/tutorial_de_como_o_reddit_funciona_dicas_termos/) Fique à vontade para [mostrar sua localização](https://www.reddit.com/r/brasil/comments/2jc6xg/mostre_sua_localização_no_rbrasil_atualizado/) e [conversar em nosso chat no Discord!](https://discordapp.com/invite/rbrasil)\n",
      "\n",
      "Qualquer dúvida ou problema, [entre em contato com a moderação!](/message/compose?to=/r/brasil)\n",
      "\n",
      "## Regras da Comunidade \n",
      "\n",
      "* **Todo conteúdo deve respeitar as leis do Brasil e dos Estados Unidos.**\n",
      "\n",
      "* **Respeite outros usuários e a comunidade.**\n",
      "\n",
      "* **Respeite a diversidade.**\n",
      "\n",
      "* **Tenha empatia pelas pessoas.**\n",
      "\n",
      "* **Títulos de posts devem ser neutros e descritivos.**\n",
      "\n",
      "* **Links devem ser compartilhados diretamente.**\n",
      "\n",
      "* **Preserve a privacidade de pessoas comuns.**\n",
      "\n",
      "Veja também a [versão completa](https://www.reddit.com/r/brasil/wiki/regras/) das regras.\n",
      "\n",
      "_Nota: Você precisa de 15 karma e 5 dias de conta para postar no r/brasil._\n",
      "\n",
      "##Subreddits de interesse\n",
      "\n",
      "* /r/coronabr - para acompanhar a epidemia do coronavírus no Brasil\n",
      "* /r/arco_iris - comunidade LGBT no Reddit\n",
      "* r/conversas - comunidade de conversas casuais\n",
      "* /r/desabafos - focado para Desabafos\n",
      "* /r/eu_nvr - memes, semelhante ao me_irl\n",
      "* /r/futebol - comunidade brasileira de futebol\n",
      "* /r/asklatinamerica - comunidade de usuários da América Latina. O inglês é a língua padrão, mas acontece de usuários conversarem em espanhol também.\n",
      "* /r/gamesEcultura - comunidade focada em jogos\n",
      "* /r/investimentos - comunidade voltada para investimentos financeiros\n",
      "* /r/InternetBrasil - comunidade voltada à discussão da Internet no Brasil\n",
      "* /r/porramauricio - sub dedicado aos fãs de Turma da Mônica\n",
      "* /r/privacidade - discussões sobre privacidade em português\n",
      "* /r/BrasilOnReddit - menções do Brasil no Reddit\n",
      "* /r/foradecasa - dicas para quem quer se mudar para fora do Brasil\n",
      "* /r/Gambiarra - truques brasileiros\n",
      "* /r/Idiomas - comunidade para quem está aprendendo outras línguas\n",
      "* /r/rpg_brasil - O Lar dos Nerds Brasileiros no Multiverso Reddit!\n",
      "* /r/Valiria - sub brasileiro dedicado às Crônicas de Gelo e Fogo, demais obras de George R. R. Martin e suas adaptações\n",
      "* /r/VelhaGuarda \n",
      "\n",
      "*Sugira a inclusão de novos subreddits na sidebar [aqui](/message/compose?to=/r/brasil).*\n",
      "\n",
      "Para uma lista completa de subreddits em português brasileiro, [Multireddit Brasil](/user/Donnutz/m/multi_br/new)\n",
      "\n",
      "*Sugira a inclusão de novos subs no multi [aqui](/message/compose?to=donnutz;subject=Oi,%20gostaria%20de%20sugerir%20a%20inclusao%20de%20um%20sub%20no%20multi)!*\n",
      "\n",
      "##Chat e Redes Sociais\n",
      "\n",
      "Temos um [**Canal no IRC**](https://kiwiirc.com/client/irc.snoonet.org/brasil).\n",
      "\n",
      "Acesse o IRC com a sua conta do reddit, pelo [**OrangeChat**](https://app.orangechat.io/#/r/brasil ).\n",
      "\n",
      "Agora também temos um [canal no Discord](https://discord.gg/rbrasil).\n",
      "\n",
      "[](#/RES_SR_Config/NightModeCompatible)\n"
     ]
    }
   ],
   "source": [
    "subreddit = reddit.subreddit(\"brasil\")\n",
    "\n",
    "print(subreddit.display_name)\n",
    "print(subreddit.title)\n",
    "print(subreddit.description)"
   ]
  },
  {
   "cell_type": "code",
   "execution_count": null,
   "id": "863a57bf-6f05-474d-9891-717a24653feb",
   "metadata": {},
   "outputs": [],
   "source": []
  }
 ],
 "metadata": {
  "kernelspec": {
   "display_name": "Python 3 (ipykernel)",
   "language": "python",
   "name": "python3"
  },
  "language_info": {
   "codemirror_mode": {
    "name": "ipython",
    "version": 3
   },
   "file_extension": ".py",
   "mimetype": "text/x-python",
   "name": "python",
   "nbconvert_exporter": "python",
   "pygments_lexer": "ipython3",
   "version": "3.12.3"
  }
 },
 "nbformat": 4,
 "nbformat_minor": 5
}
